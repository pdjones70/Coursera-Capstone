{
    "cells": [
        {
            "cell_type": "markdown",
            "metadata": {
                "collapsed": true
            },
            "source": "## Introduction/Business Problem\n\nThe purpose of this analysis is to determine the top 5 high schools with the highest scholastic aptitude test (SAT) scores in each New York City (NYC) borough.  The intended audiences for the analysis are parents of soon-to-be or current high schoolers.  This analysis is relevant to parents of soon-to-be high schoolers who intend on taking the SAT to provide guidance in determining the best high school or see if their current high school is a top SAT performer.\n"
        },
        {
            "cell_type": "markdown",
            "metadata": {},
            "source": "## Data\n\nThe data sets used for this analysis will be the New York City Department of Education 2011 School Survey data, Kaggle NYC Schools/SAT dataset and Foursquare.  The NYC 2011 School Survey will be used to obtain the school identifier (unique school identifier), school type (high school), total number of students, school address, and borough (borough where school is located).  The Kaggle NYC Schools/SAT dataset will be used to obtain various data about the high schools in NYC.  This data includes SAT results, unique school identifiers, school names and addresses, total number of students, and the longitude/latitude of each high school.  The Foursquare data will be used to map the top SAT performing schools in each borough to visually display where they are located and what venues like bus stops and subway stops are nearby.\n\nBelow is a sample of data compiled from the various data sets.\n\nSchool_identifier: 01M448;\nSchool_name: University Neighborhood High School;\nSchool_type: High School;\nTotal_students: 299;\nBorough: Manhattan;\nPrimary_address: 200 Monroe Street;\nCity: New York;\nState_code: NY;\nPostcode: 10002;\nLocation: (40.7123318510005, -73.98479662499966);\nSAT Critical Reading Average Score: 383;\nSAT Mathematical Average Score: 423;\nSAT Writing Average Score: 366\n"
        },
        {
            "cell_type": "markdown",
            "metadata": {},
            "source": ""
        }
    ],
    "metadata": {
        "kernelspec": {
            "display_name": "Python 3.6",
            "language": "python",
            "name": "python3"
        },
        "language_info": {
            "codemirror_mode": {
                "name": "ipython",
                "version": 3
            },
            "file_extension": ".py",
            "mimetype": "text/x-python",
            "name": "python",
            "nbconvert_exporter": "python",
            "pygments_lexer": "ipython3",
            "version": "3.6.9"
        }
    },
    "nbformat": 4,
    "nbformat_minor": 1
}